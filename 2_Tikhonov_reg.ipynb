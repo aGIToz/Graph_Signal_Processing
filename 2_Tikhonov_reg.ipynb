{
 "cells": [
  {
   "cell_type": "markdown",
   "metadata": {},
   "source": [
    "# Tikhonov regularization\n",
    "- We shall be using Tikhonov regularization for color processing on pointclouds.\n",
    "- We shall be solving the following functinal:\n",
    "\n",
    "    \\begin{equation}\\label{eq:optimization_problem}\n",
    "    f^{*} = \\underset{f}{\\arg\\min} \\  \\tfrac{1}{2}\\|f-f_0\\|^2 +  \\tfrac{\\lambda}{2} \\sum_{i \\in V}\\|\\nabla_\\omega f_i\\|^{2}_{2}\n",
    "    \\end{equation}   \n",
    "    \n",
    "- Using the very definition of $\\nabla_{w} f$ the regularizer can be expanded as:\n",
    "\n",
    "\\begin{equation}\n",
    "\\sum_{i \\in V}\\|\\nabla_\\omega f_i\\|^{2}_{2} = \\sum_{i \\in V} \\sum_{j \\in N(i)} \\omega_{i,j} (f_{j} - f_{i})^{2}\n",
    "\\end{equation}\n",
    "\n",
    "- It can be shown that for a **symmetric weighted** graph (*i.e* $\\omega_{i,j} = \\omega_{j,i}$) the derivate of the energy functional wrt $f_i$ yields:\n",
    "$$ f_i - f_{i,0} + 2\\lambda \\sum_{j \\in N(i)}\\omega_{i,j}(f_{i} - f_{j}) = 0$$\n",
    "\n",
    "- We shall be solving the above linear equatoins using Jacobi's iteration method which yields:\n",
    "$$ f_{i}^{n+1} = \\frac{f_{i,0} + 2\\lambda\\sum_{j \\in N(i)}\\omega_{i,j} f^{n}_{j}}{1 + 2\\lambda\\sum_{j \\in N(i)}\\omega_{i,j}}$$\n",
    "\n",
    "- Let the initial estimate $f^{0}_{i} = f_{i,0}$\n",
    "- **Note**: For a large value of $\\lambda$ this approaches non-local-means on graphs !"
   ]
  },
  {
   "cell_type": "code",
   "execution_count": 10,
   "metadata": {},
   "outputs": [],
   "source": [
    "import torch\n",
    "from tqdm import tqdm\n",
    "from torch_scatter import scatter\n",
    "import argparse\n",
    "import numpy as np\n",
    "from tqdm import tqdm\n",
    "from utilities import *\n",
    "dev = \"cuda\" if torch.cuda.is_available() else \"cpu\""
   ]
  },
  {
   "cell_type": "code",
   "execution_count": 19,
   "metadata": {},
   "outputs": [],
   "source": [
    "# load the graph\n",
    "graph = torch.load(\"./data/girl_skate.pt\")\n",
    "graph.tex = torch.from_numpy(graph.tex).type(torch.float32) \n",
    "graph = graph.to(dev)"
   ]
  },
  {
   "cell_type": "code",
   "execution_count": 20,
   "metadata": {},
   "outputs": [],
   "source": [
    "# To visualize the noisy pointcloud :\n",
    "displaySur(**dict(position=graph.x, texture=graph.tex.cpu().numpy()))"
   ]
  },
  {
   "cell_type": "code",
   "execution_count": 21,
   "metadata": {},
   "outputs": [],
   "source": [
    "class Jacobi_iterative(object):\n",
    "    \"\"\"\n",
    "    To apply Jacobi's fixed point iteration scheme\n",
    "    \"\"\"\n",
    "    def __init__(self, graph, **kwargs):\n",
    "        self.edge_index = graph.edge_index\n",
    "        self.edge_attr = graph.edge_attr\n",
    "        self.dim_size = kwargs[\"dim_size\"] \n",
    "        self.f0 = kwargs[\"noisy_sig\"] \n",
    "        self.lamb = kwargs[\"lamb\"]\n",
    "        \n",
    "    def run(self, itr, signal):\n",
    "        tol = 1e-15\n",
    "        for i in tqdm(range(itr)):\n",
    "            num = self.f0 + (2*self.lamb) * (scatter(self.edge_attr * signal[self.edge_index[0]], self.edge_index[1], dim=0, dim_size=self.dim_size, reduce=\"add\"))\n",
    "            den = 1.0 + (2*self.lamb) * (scatter(self.edge_attr, self.edge_index[1], dim=0, dim_size=self.dim_size, reduce=\"add\"))\n",
    "            tmp_signal = num/den\n",
    "            eps = torch.nn.MSELoss()(signal,tmp_signal)\n",
    "            signal = tmp_signal\n",
    "            if eps < tol :\n",
    "                print(f\"Tolerance reached at itr:{i}!\")\n",
    "                return signal\n",
    "        return signal\n",
    "\n",
    "    "
   ]
  },
  {
   "cell_type": "code",
   "execution_count": 22,
   "metadata": {},
   "outputs": [
    {
     "name": "stderr",
     "output_type": "stream",
     "text": [
      "  0%|          | 0/100 [00:00<?, ?it/s]"
     ]
    },
    {
     "name": "stdout",
     "output_type": "stream",
     "text": [
      "Tolerance reached at itr:29!\n"
     ]
    },
    {
     "name": "stderr",
     "output_type": "stream",
     "text": [
      "\n"
     ]
    }
   ],
   "source": [
    "lamb = 0.2\n",
    "itr = 100\n",
    "hp = dict(noisy_sig=graph.tex, lamb=lamb, dim_size=graph.tex.shape[0])\n",
    "j_i = Jacobi_iterative(graph, **hp)\n",
    "new_sig = j_i.run(itr, graph.tex)"
   ]
  },
  {
   "cell_type": "code",
   "execution_count": 23,
   "metadata": {},
   "outputs": [],
   "source": [
    "# Display the processed pointcloud\n",
    "displaySur(**dict(position=graph.x, texture=new_sig.cpu().numpy()))"
   ]
  },
  {
   "cell_type": "code",
   "execution_count": 65,
   "metadata": {},
   "outputs": [],
   "source": [
    "# Display the original pointcloud\n",
    "displaySur(**dict(position=graph.x, texture=graph.tex.cpu().numpy()))"
   ]
  },
  {
   "cell_type": "code",
   "execution_count": null,
   "metadata": {},
   "outputs": [],
   "source": [
    "# You should see something like"
   ]
  }
 ],
 "metadata": {
  "kernelspec": {
   "display_name": "Python 3",
   "language": "python",
   "name": "python3"
  },
  "language_info": {
   "codemirror_mode": {
    "name": "ipython",
    "version": 3
   },
   "file_extension": ".py",
   "mimetype": "text/x-python",
   "name": "python",
   "nbconvert_exporter": "python",
   "pygments_lexer": "ipython3",
   "version": "3.6.9"
  }
 },
 "nbformat": 4,
 "nbformat_minor": 4
}
